{
 "cells": [
  {
   "cell_type": "markdown",
   "metadata": {},
   "source": [
    "# Prepoznavanje spola imena pomoću neuronskih mreža\n",
    "### Ivan Židov - Računalno jezikoslovlje"
   ]
  },
  {
   "cell_type": "code",
   "execution_count": 1,
   "metadata": {},
   "outputs": [
    {
     "name": "stderr",
     "output_type": "stream",
     "text": [
      "C:\\Users\\Ivan\\Anaconda3\\lib\\site-packages\\h5py\\__init__.py:36: FutureWarning: Conversion of the second argument of issubdtype from `float` to `np.floating` is deprecated. In future, it will be treated as `np.float64 == np.dtype(float).type`.\n",
      "  from ._conv import register_converters as _register_converters\n",
      "Using TensorFlow backend.\n"
     ]
    }
   ],
   "source": [
    "import matplotlib.pyplot as plt\n",
    "from keras.layers.core import Dense, Activation, Dropout\n",
    "from keras.models import Sequential\n",
    "from keras.layers import Dense, Embedding\n",
    "from keras.layers import LSTM, Flatten, Input\n",
    "from keras.callbacks import ModelCheckpoint\n",
    "from keras.models import Model\n",
    "from keras.layers.convolutional import Convolution1D, MaxPooling1D\n",
    "import pandas as pd\n",
    "import numpy as np\n",
    "import re\n",
    "import os\n",
    "import keras"
   ]
  },
  {
   "cell_type": "code",
   "execution_count": 2,
   "metadata": {},
   "outputs": [],
   "source": [
    "#Parametri\n",
    "maxlen = 15 #najduža duljina riječi, tj. svaka riječ se dopuni s END do duljine 15\n",
    "labels = 2 #broj klasa, u našem slučaju 2 pošto je samo muško i žensko"
   ]
  },
  {
   "cell_type": "markdown",
   "metadata": {},
   "source": [
    "## Popis muških i ženskih slavenskih imena parsiran s https://www.behindthename.com/names/usage/slavic\n",
    "Pošto ima imena s različitim slovima, ograničili smo na hrvatsku abecedu i xywq"
   ]
  },
  {
   "cell_type": "code",
   "execution_count": 3,
   "metadata": {},
   "outputs": [],
   "source": [
    "myNames=[]\n",
    "from unidecode import unidecode\n",
    "chars = set('abcčćddžđefghijklljmnnjoprsštuvzžABCČĆDDŽĐEFGHIJKLLJMNNJOPRSŠTUVZŽxywqXYWQ\\n')\n",
    "\n",
    "with open('slavicnames.txt', 'r',encoding='utf-8') as f:\n",
    "    #if all((c in chars) for c in (line.strip().lower()):\n",
    "    myNames = myNames + [re.split(\",\",line.strip()) for line in f]\n",
    "    #myNames = myNames + [(line.strip().lower(),'musko') if all((c in chars) for c in line) else None for line in f]\n",
    "\n",
    "myNames=[(a,b) if all((c in chars) for c in a) else None for a,b in myNames]\n",
    "myNames = [x for x in myNames if x is not None]"
   ]
  },
  {
   "cell_type": "code",
   "execution_count": 4,
   "metadata": {},
   "outputs": [
    {
     "name": "stdout",
     "output_type": "stream",
     "text": [
      "2399\n"
     ]
    }
   ],
   "source": [
    "vocab = set(' '.join([str(i[0]) for i in myNames]))\n",
    "vocab.add('END')\n",
    "len_vocab = len(vocab)\n",
    "print(len(myNames))"
   ]
  },
  {
   "cell_type": "code",
   "execution_count": 5,
   "metadata": {},
   "outputs": [
    {
     "name": "stdout",
     "output_type": "stream",
     "text": [
      "{'u', 'j', 'v', 'š', ' ', 'đ', 'm', 'p', 'END', 'e', 'z', 'l', 'o', 'f', 'a', 'r', 'ž', 'č', 'c', 'x', 'h', 't', 'y', 'k', 'w', 'i', 's', 'd', 'n', 'ć', 'g', 'b'}\n",
      "Broj slova 32\n"
     ]
    }
   ],
   "source": [
    "print(vocab)\n",
    "print(\"Broj slova\",len_vocab)"
   ]
  },
  {
   "cell_type": "markdown",
   "metadata": {},
   "source": [
    "Indeksirajmo svako slovo kao index"
   ]
  },
  {
   "cell_type": "code",
   "execution_count": 6,
   "metadata": {},
   "outputs": [
    {
     "name": "stdout",
     "output_type": "stream",
     "text": [
      "{'u': 0, 'j': 1, 'v': 2, 'š': 3, ' ': 4, 'đ': 5, 'm': 6, 'p': 7, 'END': 8, 'e': 9, 'z': 10, 'l': 11, 'o': 12, 'f': 13, 'a': 14, 'r': 15, 'ž': 16, 'č': 17, 'c': 18, 'x': 19, 'h': 20, 't': 21, 'y': 22, 'k': 23, 'w': 24, 'i': 25, 's': 26, 'd': 27, 'n': 28, 'ć': 29, 'g': 30, 'b': 31}\n"
     ]
    }
   ],
   "source": [
    "char_index = dict((c, i) for i, c in enumerate(vocab))\n",
    "print(char_index)"
   ]
  },
  {
   "cell_type": "code",
   "execution_count": 7,
   "metadata": {},
   "outputs": [],
   "source": [
    "# Funkcija koja će nam brojati koliko ima muških a koliko ženskih imena u skupu\n",
    "def muski_zenski(y):\n",
    "    mc = 0\n",
    "    zc = 0\n",
    "\n",
    "    for i in y:\n",
    "        if i[0]==1:\n",
    "            mc=mc+1\n",
    "\n",
    "        else:\n",
    "            zc=zc+1\n",
    "    return mc,zc"
   ]
  },
  {
   "cell_type": "code",
   "execution_count": 8,
   "metadata": {},
   "outputs": [],
   "source": [
    "# Funkcija koja pravi listu duljine broja znakova i na i-tom mjestu je 1 a na svim ostalim 0\n",
    "def set_flag(i):\n",
    "    tmp = np.zeros(len_vocab);\n",
    "    tmp[i] = 1\n",
    "    return(tmp)"
   ]
  },
  {
   "cell_type": "code",
   "execution_count": 9,
   "metadata": {},
   "outputs": [],
   "source": [
    "# Funkciija koja od liste riječi i spola radi vektor \n",
    "# gdje je svako slovo zamijenjeno vektorom koji ima 1 na indexu tog slova i ostatak dopuni s END i vektor za spol\n",
    "def vectorize(parovi):\n",
    "    X = []\n",
    "    y = []\n",
    "    for par in parovi:\n",
    "        tmp = [set_flag(char_index[j]) for j in str(par[0])]\n",
    "        for k in range(0,maxlen - len(str(par[0]))):\n",
    "            tmp.append(set_flag(char_index[\"END\"]))\n",
    "        X.append(tmp)\n",
    "        if par[1]=='m':\n",
    "            y.append([1,0])\n",
    "        elif par[1]==\"f\":\n",
    "            y.append([0,1])\n",
    "        elif (par[1]==(\"m & f\") or par[1]==(\"f & m\")): #ovo stavljamo jer u popisu ima nekih uni-sex imena\n",
    "            y.append([0,1])\n",
    "            X.append(tmp)\n",
    "            y.append([1,0])      \n",
    "        else:\n",
    "            print(\"Greska\")\n",
    "            print(par[1])\n",
    "    return(X,y)"
   ]
  },
  {
   "cell_type": "markdown",
   "metadata": {},
   "source": [
    "Promiješamo listu imena"
   ]
  },
  {
   "cell_type": "code",
   "execution_count": 10,
   "metadata": {},
   "outputs": [
    {
     "name": "stdout",
     "output_type": "stream",
     "text": [
      "[('jelena', 'f'), ('dragoslav', 'm'), ('draha', 'f'), ('jadranka', 'f')]\n",
      "[('bistra', 'f'), ('martina', 'f'), ('urszula', 'f'), ('sevastyan', 'm')]\n"
     ]
    }
   ],
   "source": [
    "np.random.shuffle(myNames)\n",
    "print(myNames[:4])\n",
    "print(myNames[-4:])"
   ]
  },
  {
   "cell_type": "markdown",
   "metadata": {},
   "source": [
    "Razdvojimo imena na skupove za treniranje, validaciju i na test te ih vektoriziramo"
   ]
  },
  {
   "cell_type": "code",
   "execution_count": 11,
   "metadata": {},
   "outputs": [],
   "source": [
    "train_X,train_y = vectorize(myNames[:2000])\n",
    "val_X,val_y = vectorize(myNames[2000:2200])\n",
    "test_X,test_y = vectorize(myNames[2200:2399])"
   ]
  },
  {
   "cell_type": "code",
   "execution_count": 12,
   "metadata": {},
   "outputs": [
    {
     "name": "stdout",
     "output_type": "stream",
     "text": [
      "(201, 2)\n",
      "U trening skupu imamo 1109 muških imena i 910 ženskih imena\n"
     ]
    }
   ],
   "source": [
    "print(np.array(test_y).shape)\n",
    "print(\"U trening skupu imamo %d muških imena i %d ženskih imena\" % muski_zenski(train_y))"
   ]
  },
  {
   "cell_type": "markdown",
   "metadata": {},
   "source": [
    "## Napravit ćemo 2 modela te ih usporediti"
   ]
  },
  {
   "cell_type": "code",
   "execution_count": 13,
   "metadata": {},
   "outputs": [
    {
     "name": "stdout",
     "output_type": "stream",
     "text": [
      "Radim model1...\n"
     ]
    }
   ],
   "source": [
    "#Prvi model koji je sastavljen od LSTM-ova\n",
    "print('Radim model1...')\n",
    "model = Sequential()\n",
    "model.add(LSTM(128, return_sequences=True, input_shape=(maxlen,len_vocab)))\n",
    "model.add(Dropout(0.2))\n",
    "model.add(LSTM(128, return_sequences=False))\n",
    "model.add(Dropout(0.2))\n",
    "model.add(Dense(64,activation=\"elu\"))\n",
    "model.add(Dropout(0.5))\n",
    "#model.add(Dense(16,activation=\"elu\"))\n",
    "#model.add(Dropout(0.5))\n",
    "model.add(Dense(2))\n",
    "model.add(Activation('sigmoid'))\n",
    "model.compile(loss='categorical_crossentropy', optimizer='adam',metrics=['accuracy'])"
   ]
  },
  {
   "cell_type": "code",
   "execution_count": 14,
   "metadata": {},
   "outputs": [
    {
     "name": "stdout",
     "output_type": "stream",
     "text": [
      "Radim model2...\n"
     ]
    },
    {
     "name": "stderr",
     "output_type": "stream",
     "text": [
      "C:\\Users\\Ivan\\Anaconda3\\lib\\site-packages\\ipykernel_launcher.py:8: UserWarning: Update your `Conv1D` call to the Keras 2 API: `Conv1D(activation=\"relu\", input_shape=(15, 32), filters=256, kernel_size=5, padding=\"same\")`\n",
      "  \n",
      "C:\\Users\\Ivan\\Anaconda3\\lib\\site-packages\\ipykernel_launcher.py:9: UserWarning: Update your `MaxPooling1D` call to the Keras 2 API: `MaxPooling1D(pool_size=3)`\n",
      "  if __name__ == '__main__':\n",
      "C:\\Users\\Ivan\\Anaconda3\\lib\\site-packages\\ipykernel_launcher.py:12: UserWarning: Update your `Conv1D` call to the Keras 2 API: `Conv1D(activation=\"relu\", filters=256, kernel_size=3, padding=\"same\")`\n",
      "  if sys.path[0] == '':\n",
      "C:\\Users\\Ivan\\Anaconda3\\lib\\site-packages\\ipykernel_launcher.py:13: UserWarning: Update your `MaxPooling1D` call to the Keras 2 API: `MaxPooling1D(pool_size=3)`\n",
      "  del sys.path[0]\n",
      "C:\\Users\\Ivan\\Anaconda3\\lib\\site-packages\\ipykernel_launcher.py:22: UserWarning: Update your `Model` call to the Keras 2 API: `Model(inputs=Tensor(\"in..., outputs=Tensor(\"ou...)`\n"
     ]
    }
   ],
   "source": [
    "#Drugi model koji je sastavljen od konvolucijskih jednodimenzionalnih slojeva\n",
    "print('Radim model2...')\n",
    "nb_filter = 256\n",
    "inputs = Input(shape=(maxlen,len_vocab), name='input')\n",
    "\n",
    "conv = Convolution1D(nb_filter=nb_filter, filter_length=5,\n",
    "                     border_mode='same', activation='relu',\n",
    "                     input_shape=(maxlen, len_vocab))(inputs)\n",
    "conv = MaxPooling1D(pool_length=3)(conv)\n",
    "\n",
    "conv1 = Convolution1D(nb_filter=nb_filter, filter_length=3,\n",
    "                      border_mode='same', activation='relu')(conv)\n",
    "conv1 = MaxPooling1D(pool_length=3)(conv1)\n",
    "\n",
    "conv5 = Flatten()(conv1)\n",
    "\n",
    "z = Dropout(0.5)(Dense(64, activation='relu')(conv5))\n",
    "z = Dropout(0.5)(Dense(16, activation='relu')(z))\n",
    "\n",
    "pred = Dense(2, activation='softmax', name='output')(z)\n",
    "\n",
    "model2 = Model(input=inputs, output=pred)\n",
    "\n",
    "model2.compile(loss='categorical_crossentropy', optimizer='rmsprop',\n",
    "              metrics=['accuracy'])"
   ]
  },
  {
   "cell_type": "markdown",
   "metadata": {},
   "source": [
    "## Treniramo oba modela i s callbackovima najbolje modele spremamo u \"model1.h5\" i \"model2.h5\""
   ]
  },
  {
   "cell_type": "code",
   "execution_count": 15,
   "metadata": {},
   "outputs": [
    {
     "name": "stderr",
     "output_type": "stream",
     "text": [
      "C:\\Users\\Ivan\\Anaconda3\\lib\\site-packages\\keras\\models.py:939: UserWarning: The `nb_epoch` argument in `fit` has been renamed `epochs`.\n",
      "  warnings.warn('The `nb_epoch` argument in `fit` '\n"
     ]
    },
    {
     "name": "stdout",
     "output_type": "stream",
     "text": [
      "Train on 2019 samples, validate on 202 samples\n",
      "Epoch 1/75\n",
      "2019/2019 [==============================] - 4s 2ms/step - loss: 0.6898 - acc: 0.5414 - val_loss: 0.6931 - val_acc: 0.5099\n",
      "Epoch 2/75\n",
      "2019/2019 [==============================] - 0s 151us/step - loss: 0.6839 - acc: 0.5493 - val_loss: 0.6914 - val_acc: 0.5099\n",
      "Epoch 3/75\n",
      "2019/2019 [==============================] - 0s 154us/step - loss: 0.6808 - acc: 0.5503 - val_loss: 0.6855 - val_acc: 0.5099\n",
      "Epoch 4/75\n",
      "2019/2019 [==============================] - 0s 157us/step - loss: 0.6751 - acc: 0.5532 - val_loss: 0.6783 - val_acc: 0.5198\n",
      "Epoch 5/75\n",
      "2019/2019 [==============================] - 0s 151us/step - loss: 0.6648 - acc: 0.5681 - val_loss: 0.6762 - val_acc: 0.5297\n",
      "Epoch 6/75\n",
      "2019/2019 [==============================] - 0s 148us/step - loss: 0.6462 - acc: 0.5820 - val_loss: 0.6285 - val_acc: 0.6832\n",
      "Epoch 7/75\n",
      "2019/2019 [==============================] - 0s 162us/step - loss: 0.5948 - acc: 0.6999 - val_loss: 0.6095 - val_acc: 0.6188\n",
      "Epoch 8/75\n",
      "2019/2019 [==============================] - 0s 137us/step - loss: 0.5696 - acc: 0.6840 - val_loss: 0.6551 - val_acc: 0.6139\n",
      "Epoch 9/75\n",
      "2019/2019 [==============================] - 0s 138us/step - loss: 0.5785 - acc: 0.6825 - val_loss: 0.6232 - val_acc: 0.6139\n",
      "Epoch 10/75\n",
      "2019/2019 [==============================] - 0s 148us/step - loss: 0.5592 - acc: 0.6929 - val_loss: 0.5816 - val_acc: 0.6584\n",
      "Epoch 11/75\n",
      "2019/2019 [==============================] - 0s 147us/step - loss: 0.5480 - acc: 0.7355 - val_loss: 0.5753 - val_acc: 0.7426\n",
      "Epoch 12/75\n",
      "2019/2019 [==============================] - 0s 135us/step - loss: 0.5436 - acc: 0.7474 - val_loss: 0.5843 - val_acc: 0.7030\n",
      "Epoch 13/75\n",
      "2019/2019 [==============================] - 0s 151us/step - loss: 0.5364 - acc: 0.7256 - val_loss: 0.5464 - val_acc: 0.7673\n",
      "Epoch 14/75\n",
      "2019/2019 [==============================] - 0s 159us/step - loss: 0.5044 - acc: 0.7890 - val_loss: 0.5360 - val_acc: 0.7525\n",
      "Epoch 15/75\n",
      "2019/2019 [==============================] - 0s 135us/step - loss: 0.4890 - acc: 0.7741 - val_loss: 0.6106 - val_acc: 0.7376\n",
      "Epoch 16/75\n",
      "2019/2019 [==============================] - 0s 154us/step - loss: 0.5141 - acc: 0.7761 - val_loss: 0.4792 - val_acc: 0.8168\n",
      "Epoch 17/75\n",
      "2019/2019 [==============================] - 0s 158us/step - loss: 0.4527 - acc: 0.7964 - val_loss: 0.4400 - val_acc: 0.8267\n",
      "Epoch 18/75\n",
      "2019/2019 [==============================] - 0s 141us/step - loss: 0.4352 - acc: 0.8108 - val_loss: 0.4751 - val_acc: 0.7673\n",
      "Epoch 19/75\n",
      "2019/2019 [==============================] - 0s 164us/step - loss: 0.4613 - acc: 0.7781 - val_loss: 0.3635 - val_acc: 0.8614\n",
      "Epoch 20/75\n",
      "2019/2019 [==============================] - 0s 154us/step - loss: 0.3675 - acc: 0.8494 - val_loss: 0.3112 - val_acc: 0.8812\n",
      "Epoch 21/75\n",
      "2019/2019 [==============================] - 0s 159us/step - loss: 0.3524 - acc: 0.8489 - val_loss: 0.3041 - val_acc: 0.8861\n",
      "Epoch 22/75\n",
      "2019/2019 [==============================] - 0s 163us/step - loss: 0.3350 - acc: 0.8598 - val_loss: 0.2729 - val_acc: 0.8861\n",
      "Epoch 23/75\n",
      "2019/2019 [==============================] - 0s 142us/step - loss: 0.3318 - acc: 0.8593 - val_loss: 0.4128 - val_acc: 0.7822\n",
      "Epoch 24/75\n",
      "2019/2019 [==============================] - 0s 143us/step - loss: 0.3816 - acc: 0.8281 - val_loss: 0.3072 - val_acc: 0.8812\n",
      "Epoch 25/75\n",
      "2019/2019 [==============================] - 0s 140us/step - loss: 0.3850 - acc: 0.8227 - val_loss: 0.2829 - val_acc: 0.9059\n",
      "Epoch 26/75\n",
      "2019/2019 [==============================] - 0s 150us/step - loss: 0.3188 - acc: 0.8821 - val_loss: 0.2646 - val_acc: 0.8960\n",
      "Epoch 27/75\n",
      "2019/2019 [==============================] - 0s 155us/step - loss: 0.2999 - acc: 0.8846 - val_loss: 0.2329 - val_acc: 0.9257\n",
      "Epoch 28/75\n",
      "2019/2019 [==============================] - 0s 140us/step - loss: 0.2913 - acc: 0.8970 - val_loss: 0.2432 - val_acc: 0.9356\n",
      "Epoch 29/75\n",
      "2019/2019 [==============================] - 0s 139us/step - loss: 0.2840 - acc: 0.8960 - val_loss: 0.2391 - val_acc: 0.9307\n",
      "Epoch 30/75\n",
      "2019/2019 [==============================] - 0s 133us/step - loss: 0.2930 - acc: 0.8910 - val_loss: 0.3022 - val_acc: 0.8515\n",
      "Epoch 31/75\n",
      "2019/2019 [==============================] - 0s 146us/step - loss: 0.2901 - acc: 0.8955 - val_loss: 0.2440 - val_acc: 0.9059\n",
      "Epoch 32/75\n",
      "2019/2019 [==============================] - 0s 166us/step - loss: 0.3056 - acc: 0.8782 - val_loss: 0.2228 - val_acc: 0.9356\n",
      "Epoch 33/75\n",
      "2019/2019 [==============================] - 0s 145us/step - loss: 0.2624 - acc: 0.9104 - val_loss: 0.2562 - val_acc: 0.8911\n",
      "Epoch 34/75\n",
      "2019/2019 [==============================] - 0s 160us/step - loss: 0.2712 - acc: 0.8975 - val_loss: 0.2122 - val_acc: 0.9208\n",
      "Epoch 35/75\n",
      "2019/2019 [==============================] - 0s 137us/step - loss: 0.2564 - acc: 0.9118 - val_loss: 0.2188 - val_acc: 0.9208\n",
      "Epoch 36/75\n",
      "2019/2019 [==============================] - 0s 153us/step - loss: 0.2869 - acc: 0.8985 - val_loss: 0.2019 - val_acc: 0.9455\n",
      "Epoch 37/75\n",
      "2019/2019 [==============================] - 0s 141us/step - loss: 0.2594 - acc: 0.9074 - val_loss: 0.2895 - val_acc: 0.8366\n",
      "Epoch 38/75\n",
      "2019/2019 [==============================] - 0s 149us/step - loss: 0.2870 - acc: 0.8782 - val_loss: 0.1877 - val_acc: 0.9406\n",
      "Epoch 39/75\n",
      "2019/2019 [==============================] - 0s 143us/step - loss: 0.2308 - acc: 0.9222 - val_loss: 0.1961 - val_acc: 0.9356\n",
      "Epoch 40/75\n",
      "2019/2019 [==============================] - 0s 152us/step - loss: 0.2431 - acc: 0.9143 - val_loss: 0.1880 - val_acc: 0.9307\n",
      "Epoch 41/75\n",
      "2019/2019 [==============================] - 0s 157us/step - loss: 0.2219 - acc: 0.9267 - val_loss: 0.1664 - val_acc: 0.9455\n",
      "Epoch 42/75\n",
      "2019/2019 [==============================] - 0s 163us/step - loss: 0.2389 - acc: 0.9128 - val_loss: 0.1645 - val_acc: 0.9505\n",
      "Epoch 43/75\n",
      "2019/2019 [==============================] - 0s 134us/step - loss: 0.2590 - acc: 0.9029 - val_loss: 0.1835 - val_acc: 0.9307\n",
      "Epoch 44/75\n",
      "2019/2019 [==============================] - 0s 136us/step - loss: 0.2430 - acc: 0.9024 - val_loss: 0.2235 - val_acc: 0.8911\n",
      "Epoch 45/75\n",
      "2019/2019 [==============================] - 0s 134us/step - loss: 0.2237 - acc: 0.9247 - val_loss: 0.2015 - val_acc: 0.9505\n",
      "Epoch 46/75\n",
      "2019/2019 [==============================] - 0s 136us/step - loss: 0.2795 - acc: 0.8970 - val_loss: 0.2446 - val_acc: 0.8960\n",
      "Epoch 47/75\n",
      "2019/2019 [==============================] - 0s 138us/step - loss: 0.2776 - acc: 0.8895 - val_loss: 0.2589 - val_acc: 0.8812\n",
      "Epoch 48/75\n",
      "2019/2019 [==============================] - 0s 139us/step - loss: 0.2577 - acc: 0.9009 - val_loss: 0.1859 - val_acc: 0.9406\n",
      "Epoch 49/75\n",
      "2019/2019 [==============================] - 0s 132us/step - loss: 0.2254 - acc: 0.9277 - val_loss: 0.2026 - val_acc: 0.9158\n",
      "Epoch 50/75\n",
      "2019/2019 [==============================] - 0s 132us/step - loss: 0.2247 - acc: 0.9252 - val_loss: 0.1758 - val_acc: 0.9455\n",
      "Epoch 51/75\n",
      "2019/2019 [==============================] - 0s 143us/step - loss: 0.2201 - acc: 0.9277 - val_loss: 0.1624 - val_acc: 0.9505\n",
      "Epoch 52/75\n",
      "2019/2019 [==============================] - 0s 138us/step - loss: 0.2153 - acc: 0.9272 - val_loss: 0.3003 - val_acc: 0.8465\n",
      "Epoch 53/75\n",
      "2019/2019 [==============================] - 0s 154us/step - loss: 0.2915 - acc: 0.8831 - val_loss: 0.1559 - val_acc: 0.9604\n",
      "Epoch 54/75\n",
      "2019/2019 [==============================] - 0s 139us/step - loss: 0.2382 - acc: 0.9163 - val_loss: 0.2212 - val_acc: 0.9257\n",
      "Epoch 55/75\n",
      "2019/2019 [==============================] - 0s 136us/step - loss: 0.2720 - acc: 0.9014 - val_loss: 0.1923 - val_acc: 0.9208\n",
      "Epoch 56/75\n",
      "2019/2019 [==============================] - 0s 136us/step - loss: 0.2323 - acc: 0.9242 - val_loss: 0.1751 - val_acc: 0.9406\n",
      "Epoch 57/75\n",
      "2019/2019 [==============================] - 0s 145us/step - loss: 0.2138 - acc: 0.9297 - val_loss: 0.1527 - val_acc: 0.9554\n",
      "Epoch 58/75\n",
      "2019/2019 [==============================] - 0s 142us/step - loss: 0.2448 - acc: 0.9183 - val_loss: 0.1482 - val_acc: 0.9505\n",
      "Epoch 59/75\n",
      "2019/2019 [==============================] - 0s 133us/step - loss: 0.2112 - acc: 0.9341 - val_loss: 0.1728 - val_acc: 0.9455\n",
      "Epoch 60/75\n"
     ]
    },
    {
     "name": "stdout",
     "output_type": "stream",
     "text": [
      "2019/2019 [==============================] - 0s 151us/step - loss: 0.2092 - acc: 0.9321 - val_loss: 0.1480 - val_acc: 0.9653\n",
      "Epoch 61/75\n",
      "2019/2019 [==============================] - 0s 155us/step - loss: 0.2069 - acc: 0.9316 - val_loss: 0.1417 - val_acc: 0.9604\n",
      "Epoch 62/75\n",
      "2019/2019 [==============================] - 0s 134us/step - loss: 0.2066 - acc: 0.9287 - val_loss: 0.1667 - val_acc: 0.9356\n",
      "Epoch 63/75\n",
      "2019/2019 [==============================] - 0s 135us/step - loss: 0.2145 - acc: 0.9292 - val_loss: 0.1845 - val_acc: 0.9208\n",
      "Epoch 64/75\n",
      "2019/2019 [==============================] - 0s 133us/step - loss: 0.2153 - acc: 0.9277 - val_loss: 0.1518 - val_acc: 0.9406\n",
      "Epoch 65/75\n",
      "2019/2019 [==============================] - 0s 144us/step - loss: 0.1936 - acc: 0.9361 - val_loss: 0.1342 - val_acc: 0.9554\n",
      "Epoch 66/75\n",
      "2019/2019 [==============================] - 0s 142us/step - loss: 0.1897 - acc: 0.9386 - val_loss: 0.2011 - val_acc: 0.9010\n",
      "Epoch 67/75\n",
      "2019/2019 [==============================] - 0s 146us/step - loss: 0.2188 - acc: 0.9188 - val_loss: 0.1590 - val_acc: 0.9406\n",
      "Epoch 68/75\n",
      "2019/2019 [==============================] - 0s 143us/step - loss: 0.1876 - acc: 0.9376 - val_loss: 0.1384 - val_acc: 0.9554\n",
      "Epoch 69/75\n",
      "2019/2019 [==============================] - 0s 138us/step - loss: 0.1922 - acc: 0.9356 - val_loss: 0.1963 - val_acc: 0.9158\n",
      "Epoch 70/75\n",
      "2019/2019 [==============================] - 0s 132us/step - loss: 0.2203 - acc: 0.9222 - val_loss: 0.1471 - val_acc: 0.9406\n",
      "Epoch 71/75\n",
      "2019/2019 [==============================] - 0s 137us/step - loss: 0.1882 - acc: 0.9381 - val_loss: 0.1599 - val_acc: 0.9406\n",
      "Epoch 72/75\n",
      "2019/2019 [==============================] - 0s 151us/step - loss: 0.2557 - acc: 0.9133 - val_loss: 0.1329 - val_acc: 0.9505\n",
      "Epoch 73/75\n",
      "2019/2019 [==============================] - 0s 141us/step - loss: 0.1859 - acc: 0.9416 - val_loss: 0.3072 - val_acc: 0.8564\n",
      "Epoch 74/75\n",
      "2019/2019 [==============================] - 0s 149us/step - loss: 0.2443 - acc: 0.8990 - val_loss: 0.1267 - val_acc: 0.9703\n",
      "Epoch 75/75\n",
      "2019/2019 [==============================] - 0s 140us/step - loss: 0.2112 - acc: 0.9312 - val_loss: 0.1565 - val_acc: 0.9505\n"
     ]
    },
    {
     "name": "stderr",
     "output_type": "stream",
     "text": [
      "C:\\Users\\Ivan\\Anaconda3\\lib\\site-packages\\ipykernel_launcher.py:6: UserWarning: The `nb_epoch` argument in `fit` has been renamed `epochs`.\n",
      "  \n"
     ]
    },
    {
     "name": "stdout",
     "output_type": "stream",
     "text": [
      "Train on 2019 samples, validate on 202 samples\n",
      "Epoch 1/55\n",
      "2019/2019 [==============================] - 2s 1ms/step - loss: 0.7007 - acc: 0.5102 - val_loss: 0.6860 - val_acc: 0.5099\n",
      "Epoch 2/55\n",
      "2019/2019 [==============================] - 0s 76us/step - loss: 0.6855 - acc: 0.5547 - val_loss: 0.6774 - val_acc: 0.5099\n",
      "Epoch 3/55\n",
      "2019/2019 [==============================] - 0s 75us/step - loss: 0.6812 - acc: 0.5428 - val_loss: 0.6733 - val_acc: 0.5149\n",
      "Epoch 4/55\n",
      "2019/2019 [==============================] - 0s 66us/step - loss: 0.6639 - acc: 0.5973 - val_loss: 0.6768 - val_acc: 0.5099\n",
      "Epoch 5/55\n",
      "2019/2019 [==============================] - 0s 76us/step - loss: 0.6704 - acc: 0.5755 - val_loss: 0.6384 - val_acc: 0.7178\n",
      "Epoch 6/55\n",
      "2019/2019 [==============================] - 0s 76us/step - loss: 0.6248 - acc: 0.6582 - val_loss: 0.5750 - val_acc: 0.7525\n",
      "Epoch 7/55\n",
      "2019/2019 [==============================] - 0s 74us/step - loss: 0.5801 - acc: 0.7103 - val_loss: 0.5120 - val_acc: 0.9109\n",
      "Epoch 8/55\n",
      "2019/2019 [==============================] - 0s 83us/step - loss: 0.5384 - acc: 0.7637 - val_loss: 0.4449 - val_acc: 0.9109\n",
      "Epoch 9/55\n",
      "2019/2019 [==============================] - 0s 78us/step - loss: 0.4861 - acc: 0.8123 - val_loss: 0.3974 - val_acc: 0.9010\n",
      "Epoch 10/55\n",
      "2019/2019 [==============================] - 0s 77us/step - loss: 0.5382 - acc: 0.7301 - val_loss: 0.3544 - val_acc: 0.9356\n",
      "Epoch 11/55\n",
      "2019/2019 [==============================] - 0s 76us/step - loss: 0.4250 - acc: 0.8415 - val_loss: 0.3461 - val_acc: 0.9307\n",
      "Epoch 12/55\n",
      "2019/2019 [==============================] - 0s 83us/step - loss: 0.4253 - acc: 0.8420 - val_loss: 0.3261 - val_acc: 0.9158\n",
      "Epoch 13/55\n",
      "2019/2019 [==============================] - 0s 77us/step - loss: 0.4363 - acc: 0.8167 - val_loss: 0.2634 - val_acc: 0.9554\n",
      "Epoch 14/55\n",
      "2019/2019 [==============================] - 0s 61us/step - loss: 0.3660 - acc: 0.8821 - val_loss: 0.4410 - val_acc: 0.7178\n",
      "Epoch 15/55\n",
      "2019/2019 [==============================] - 0s 64us/step - loss: 0.4340 - acc: 0.8237 - val_loss: 0.2906 - val_acc: 0.9505\n",
      "Epoch 16/55\n",
      "2019/2019 [==============================] - 0s 79us/step - loss: 0.3605 - acc: 0.8886 - val_loss: 0.1966 - val_acc: 0.9604\n",
      "Epoch 17/55\n",
      "2019/2019 [==============================] - 0s 66us/step - loss: 0.3206 - acc: 0.8925 - val_loss: 0.2059 - val_acc: 0.9653\n",
      "Epoch 18/55\n",
      "2019/2019 [==============================] - 0s 65us/step - loss: 0.3114 - acc: 0.8995 - val_loss: 0.2926 - val_acc: 0.8614\n",
      "Epoch 19/55\n",
      "2019/2019 [==============================] - 0s 65us/step - loss: 0.3749 - acc: 0.8529 - val_loss: 0.2116 - val_acc: 0.9653\n",
      "Epoch 20/55\n",
      "2019/2019 [==============================] - 0s 63us/step - loss: 0.3120 - acc: 0.9247 - val_loss: 0.2353 - val_acc: 0.9109\n",
      "Epoch 21/55\n",
      "2019/2019 [==============================] - 0s 79us/step - loss: 0.3014 - acc: 0.9029 - val_loss: 0.1577 - val_acc: 0.9653\n",
      "Epoch 22/55\n",
      "2019/2019 [==============================] - 0s 74us/step - loss: 0.2641 - acc: 0.9247 - val_loss: 0.1446 - val_acc: 0.9703\n",
      "Epoch 23/55\n",
      "2019/2019 [==============================] - 0s 64us/step - loss: 0.3095 - acc: 0.8960 - val_loss: 0.1629 - val_acc: 0.9406\n",
      "Epoch 24/55\n",
      "2019/2019 [==============================] - 0s 64us/step - loss: 0.2595 - acc: 0.9272 - val_loss: 0.1596 - val_acc: 0.9752\n",
      "Epoch 25/55\n",
      "2019/2019 [==============================] - 0s 79us/step - loss: 0.2585 - acc: 0.9212 - val_loss: 0.1251 - val_acc: 0.9703\n",
      "Epoch 26/55\n",
      "2019/2019 [==============================] - 0s 66us/step - loss: 0.2491 - acc: 0.9312 - val_loss: 0.1737 - val_acc: 0.9356\n",
      "Epoch 27/55\n",
      "2019/2019 [==============================] - 0s 67us/step - loss: 0.2787 - acc: 0.9173 - val_loss: 0.2483 - val_acc: 0.9010\n",
      "Epoch 28/55\n",
      "2019/2019 [==============================] - 0s 78us/step - loss: 0.2908 - acc: 0.9069 - val_loss: 0.1104 - val_acc: 0.9752\n",
      "Epoch 29/55\n",
      "2019/2019 [==============================] - 0s 67us/step - loss: 0.2306 - acc: 0.9416 - val_loss: 0.1106 - val_acc: 0.9653\n",
      "Epoch 30/55\n",
      "2019/2019 [==============================] - 0s 79us/step - loss: 0.2364 - acc: 0.9396 - val_loss: 0.1074 - val_acc: 0.9703\n",
      "Epoch 31/55\n",
      "2019/2019 [==============================] - 0s 66us/step - loss: 0.2088 - acc: 0.9440 - val_loss: 0.1130 - val_acc: 0.9554\n",
      "Epoch 32/55\n",
      "2019/2019 [==============================] - 0s 65us/step - loss: 0.2126 - acc: 0.9480 - val_loss: 0.4695 - val_acc: 0.7624\n",
      "Epoch 33/55\n",
      "2019/2019 [==============================] - 0s 61us/step - loss: 0.4006 - acc: 0.8598 - val_loss: 0.1193 - val_acc: 0.9505\n",
      "Epoch 34/55\n",
      "2019/2019 [==============================] - 0s 65us/step - loss: 0.1992 - acc: 0.9559 - val_loss: 0.1116 - val_acc: 0.9752\n",
      "Epoch 35/55\n",
      "2019/2019 [==============================] - 0s 66us/step - loss: 0.2236 - acc: 0.9421 - val_loss: 0.1154 - val_acc: 0.9455\n",
      "Epoch 36/55\n",
      "2019/2019 [==============================] - 0s 74us/step - loss: 0.1850 - acc: 0.9549 - val_loss: 0.1070 - val_acc: 0.9653\n",
      "Epoch 37/55\n",
      "2019/2019 [==============================] - 0s 64us/step - loss: 0.2017 - acc: 0.9624 - val_loss: 0.1544 - val_acc: 0.9406\n",
      "Epoch 38/55\n",
      "2019/2019 [==============================] - 0s 74us/step - loss: 0.1879 - acc: 0.9510 - val_loss: 0.1018 - val_acc: 0.9752\n",
      "Epoch 39/55\n",
      "2019/2019 [==============================] - 0s 65us/step - loss: 0.1931 - acc: 0.9510 - val_loss: 0.4000 - val_acc: 0.8515\n",
      "Epoch 40/55\n",
      "2019/2019 [==============================] - 0s 65us/step - loss: 0.3213 - acc: 0.8960 - val_loss: 0.1255 - val_acc: 0.9455\n",
      "Epoch 41/55\n",
      "2019/2019 [==============================] - 0s 75us/step - loss: 0.1691 - acc: 0.9599 - val_loss: 0.1006 - val_acc: 0.9752\n",
      "Epoch 42/55\n",
      "2019/2019 [==============================] - 0s 63us/step - loss: 0.1697 - acc: 0.9589 - val_loss: 0.2199 - val_acc: 0.8663\n",
      "Epoch 43/55\n",
      "2019/2019 [==============================] - 0s 65us/step - loss: 0.2002 - acc: 0.9465 - val_loss: 0.1053 - val_acc: 0.9752\n",
      "Epoch 44/55\n",
      "2019/2019 [==============================] - 0s 68us/step - loss: 0.1738 - acc: 0.9579 - val_loss: 0.1074 - val_acc: 0.9604\n",
      "Epoch 45/55\n",
      "2019/2019 [==============================] - 0s 64us/step - loss: 0.1422 - acc: 0.9614 - val_loss: 0.1341 - val_acc: 0.9406\n",
      "Epoch 46/55\n",
      "2019/2019 [==============================] - 0s 67us/step - loss: 0.1584 - acc: 0.9619 - val_loss: 0.1066 - val_acc: 0.9653\n",
      "Epoch 47/55\n",
      "2019/2019 [==============================] - 0s 65us/step - loss: 0.1430 - acc: 0.9604 - val_loss: 0.8362 - val_acc: 0.6584\n",
      "Epoch 48/55\n",
      "2019/2019 [==============================] - 0s 64us/step - loss: 0.4193 - acc: 0.8361 - val_loss: 0.1055 - val_acc: 0.9703\n",
      "Epoch 49/55\n",
      "2019/2019 [==============================] - 0s 67us/step - loss: 0.1491 - acc: 0.9604 - val_loss: 0.1094 - val_acc: 0.9604\n",
      "Epoch 50/55\n",
      "2019/2019 [==============================] - 0s 63us/step - loss: 0.1353 - acc: 0.9658 - val_loss: 0.1116 - val_acc: 0.9604\n",
      "Epoch 51/55\n",
      "2019/2019 [==============================] - 0s 64us/step - loss: 0.1264 - acc: 0.9703 - val_loss: 0.1238 - val_acc: 0.9505\n",
      "Epoch 52/55\n",
      "2019/2019 [==============================] - 0s 64us/step - loss: 0.1446 - acc: 0.9629 - val_loss: 0.1034 - val_acc: 0.9604\n",
      "Epoch 53/55\n",
      "2019/2019 [==============================] - 0s 61us/step - loss: 0.1355 - acc: 0.9673 - val_loss: 0.3031 - val_acc: 0.8614\n",
      "Epoch 54/55\n",
      "2019/2019 [==============================] - 0s 64us/step - loss: 0.1984 - acc: 0.9356 - val_loss: 0.2871 - val_acc: 0.8663\n",
      "Epoch 55/55\n",
      "2019/2019 [==============================] - 0s 61us/step - loss: 0.1851 - acc: 0.9396 - val_loss: 0.1899 - val_acc: 0.8911\n"
     ]
    }
   ],
   "source": [
    "callbacks1 = [ModelCheckpoint(\"model1.h5\",monitor=\"val_loss\",save_best_only=True)]\n",
    "callbacks2 = [ModelCheckpoint(\"model2.h5\",monitor=\"val_loss\",save_best_only=True)]\n",
    "\n",
    "batch_size=1000\n",
    "history1 = model.fit(train_X, train_y,batch_size=batch_size,nb_epoch=75,validation_data=(val_X, val_y),callbacks=callbacks1)\n",
    "history2 = model2.fit(train_X, train_y,batch_size=batch_size,nb_epoch=55,validation_data=(val_X, val_y),callbacks=callbacks2)"
   ]
  },
  {
   "cell_type": "markdown",
   "metadata": {},
   "source": [
    "Učitamo ta dva spremljena modela i usporedimo njihove rezultate na testnim skupovima"
   ]
  },
  {
   "cell_type": "code",
   "execution_count": 16,
   "metadata": {},
   "outputs": [
    {
     "name": "stdout",
     "output_type": "stream",
     "text": [
      "201/201 [==============================] - 0s 1ms/step\n",
      "Test score model1: 0.2628614806491344\n",
      "Test accuracy model1: 0.9054726368159204\n",
      "201/201 [==============================] - 0s 1ms/step\n",
      "Test score model2: 0.18850069141840164\n",
      "Test accuracy model2: 0.9402985074626866\n"
     ]
    }
   ],
   "source": [
    "model11 = keras.models.load_model('model1.h5')\n",
    "model22 = keras.models.load_model('model2.h5')\n",
    "score, acc = model11.evaluate(test_X, test_y)\n",
    "print('Test score model1:', score)\n",
    "print('Test accuracy model1:', acc)\n",
    "score, acc = model22.evaluate(test_X, test_y)\n",
    "print('Test score model2:', score)\n",
    "print('Test accuracy model2:', acc)"
   ]
  },
  {
   "cell_type": "code",
   "execution_count": 17,
   "metadata": {},
   "outputs": [],
   "source": [
    "# Funkcija koja vraća matricu konfuzije\n",
    "def perf_measure(y_actual, y_pred):\n",
    "    TZ = 0\n",
    "    FZ = 0\n",
    "    TM = 0\n",
    "    FM = 0\n",
    "\n",
    "    for i in range(len(y_pred)): \n",
    "        if y_actual[i][1]==np.round(y_pred[i][1])==1:\n",
    "           TZ += 1\n",
    "        if np.round(y_pred[i][1])==1 and y_actual[i][0]==1:\n",
    "           FZ += 1\n",
    "        if y_actual[i][0]==np.round(y_pred[i][0])==1:\n",
    "           TM += 1\n",
    "        if np.round(y_pred[i][0])==1 and y_actual[i][1]==1:\n",
    "           FM += 1\n",
    "\n",
    "    return(TZ, FZ, TM, FM)"
   ]
  },
  {
   "cell_type": "code",
   "execution_count": 18,
   "metadata": {},
   "outputs": [
    {
     "name": "stdout",
     "output_type": "stream",
     "text": [
      "Tablica konfuzije za model1:\n",
      "TŽ - Dobro predviđen ženski spol\n",
      "FŽ - Krivo predviđen ženski spol\n",
      "TM - Dobro predviđen muški spol\n",
      "FM - Krivo predviđen muški spol\n",
      "    Test  Train  Val\n",
      "TŽ    77    868   94\n",
      "FŽ    13     80    4\n",
      "TM   101    986   96\n",
      "FM     2     21    0\n",
      "\n",
      "Tablica konfuzije za model1:\n",
      "TŽ - Dobro predviđen ženski spol\n",
      "FŽ - Krivo predviđen ženski spol\n",
      "TM - Dobro predviđen muški spol\n",
      "FM - Krivo predviđen muški spol\n",
      "    Test  Train  Val\n",
      "TŽ    77    891   98\n",
      "FŽ     8     58    4\n",
      "TM   112   1051   99\n",
      "FM     4     19    1\n"
     ]
    }
   ],
   "source": [
    "print(\"Tablica konfuzije za model1:\")\n",
    "print(\"TŽ - Dobro predviđen ženski spol\")\n",
    "print(\"FŽ - Krivo predviđen ženski spol\")\n",
    "print(\"TM - Dobro predviđen muški spol\")\n",
    "print(\"FM - Krivo predviđen muški spol\")\n",
    "\n",
    "df = (pd.DataFrame(data={\"Train\":perf_measure(train_y,model11.predict(train_X)),\"Val\":perf_measure(val_y,model11.predict(val_X)),\"Test\":perf_measure(test_y,model11.predict(test_X))},index=[\"TŽ\",\"FŽ\",\"TM\",\"FM\"]))\n",
    "print(df)\n",
    "print()\n",
    "print(\"Tablica konfuzije za model1:\")\n",
    "print(\"TŽ - Dobro predviđen ženski spol\")\n",
    "print(\"FŽ - Krivo predviđen ženski spol\")\n",
    "print(\"TM - Dobro predviđen muški spol\")\n",
    "print(\"FM - Krivo predviđen muški spol\")\n",
    "df = (pd.DataFrame(data={\"Train\":perf_measure(train_y,model22.predict(train_X)),\"Val\":perf_measure(val_y,model22.predict(val_X)),\"Test\":perf_measure(test_y,model22.predict(test_X))},index=[\"TŽ\",\"FŽ\",\"TM\",\"FM\"]))\n",
    "print(df)"
   ]
  },
  {
   "cell_type": "markdown",
   "metadata": {},
   "source": [
    "Predviđanja za neka proizvoljna imena"
   ]
  },
  {
   "cell_type": "code",
   "execution_count": 19,
   "metadata": {},
   "outputs": [],
   "source": [
    "name=[\"ivan\",\"dolores\",\"saša\",\"ana\",\"mitar\",\"duje\",\"tomislav\",\"domagoj\",\"lucija\",\"hrvoje\",\"josipa\",\"hrvoje\",\"mario\",\"martina\",\"nikola\",\"luka\",\"ines\"]\n",
    "X = []\n",
    "for ime in name:\n",
    "    tmp = [set_flag(char_index[j]) for j in str(ime)]\n",
    "    for k in range(0,maxlen - len(str(ime))):\n",
    "        tmp.append(set_flag(char_index[\"END\"]))\n",
    "    X.append(tmp)\n",
    "pred1=model11.predict(np.asarray(X))\n",
    "pred2=model22.predict(np.asarray(X))"
   ]
  },
  {
   "cell_type": "code",
   "execution_count": 20,
   "metadata": {},
   "outputs": [
    {
     "data": {
      "text/html": [
       "<div>\n",
       "<style scoped>\n",
       "    .dataframe tbody tr th:only-of-type {\n",
       "        vertical-align: middle;\n",
       "    }\n",
       "\n",
       "    .dataframe tbody tr th {\n",
       "        vertical-align: top;\n",
       "    }\n",
       "\n",
       "    .dataframe thead th {\n",
       "        text-align: right;\n",
       "    }\n",
       "</style>\n",
       "<table border=\"1\" class=\"dataframe\">\n",
       "  <thead>\n",
       "    <tr style=\"text-align: right;\">\n",
       "      <th></th>\n",
       "      <th>Riječ</th>\n",
       "      <th>Model1</th>\n",
       "      <th>Model1 Predict</th>\n",
       "      <th>Model2</th>\n",
       "      <th>Model2 Predict</th>\n",
       "    </tr>\n",
       "  </thead>\n",
       "  <tbody>\n",
       "    <tr>\n",
       "      <th>0</th>\n",
       "      <td>ivan</td>\n",
       "      <td>[0.76576185, 0.11617057]</td>\n",
       "      <td>0</td>\n",
       "      <td>[0.9437586, 0.056241382]</td>\n",
       "      <td>0</td>\n",
       "    </tr>\n",
       "    <tr>\n",
       "      <th>1</th>\n",
       "      <td>dolores</td>\n",
       "      <td>[0.96747535, 0.02500458]</td>\n",
       "      <td>0</td>\n",
       "      <td>[0.9512665, 0.04873345]</td>\n",
       "      <td>0</td>\n",
       "    </tr>\n",
       "    <tr>\n",
       "      <th>2</th>\n",
       "      <td>saša</td>\n",
       "      <td>[0.0803385, 0.74785715]</td>\n",
       "      <td>1</td>\n",
       "      <td>[0.30264446, 0.6973555]</td>\n",
       "      <td>1</td>\n",
       "    </tr>\n",
       "    <tr>\n",
       "      <th>3</th>\n",
       "      <td>ana</td>\n",
       "      <td>[0.017193815, 0.9268358]</td>\n",
       "      <td>1</td>\n",
       "      <td>[0.030120488, 0.9698795]</td>\n",
       "      <td>1</td>\n",
       "    </tr>\n",
       "    <tr>\n",
       "      <th>4</th>\n",
       "      <td>mitar</td>\n",
       "      <td>[0.7144508, 0.13552243]</td>\n",
       "      <td>0</td>\n",
       "      <td>[0.97256607, 0.027433977]</td>\n",
       "      <td>0</td>\n",
       "    </tr>\n",
       "    <tr>\n",
       "      <th>5</th>\n",
       "      <td>duje</td>\n",
       "      <td>[0.36061865, 0.38361314]</td>\n",
       "      <td>1</td>\n",
       "      <td>[0.8340641, 0.16593595]</td>\n",
       "      <td>0</td>\n",
       "    </tr>\n",
       "    <tr>\n",
       "      <th>6</th>\n",
       "      <td>tomislav</td>\n",
       "      <td>[0.94526994, 0.03462869]</td>\n",
       "      <td>0</td>\n",
       "      <td>[0.9914141, 0.0085859]</td>\n",
       "      <td>0</td>\n",
       "    </tr>\n",
       "    <tr>\n",
       "      <th>7</th>\n",
       "      <td>domagoj</td>\n",
       "      <td>[0.9995555, 0.000517505]</td>\n",
       "      <td>0</td>\n",
       "      <td>[0.9982071, 0.0017929615]</td>\n",
       "      <td>0</td>\n",
       "    </tr>\n",
       "    <tr>\n",
       "      <th>8</th>\n",
       "      <td>lucija</td>\n",
       "      <td>[0.036600504, 0.8754304]</td>\n",
       "      <td>1</td>\n",
       "      <td>[0.01575467, 0.98424536]</td>\n",
       "      <td>1</td>\n",
       "    </tr>\n",
       "    <tr>\n",
       "      <th>9</th>\n",
       "      <td>hrvoje</td>\n",
       "      <td>[0.9921685, 0.0087616695]</td>\n",
       "      <td>0</td>\n",
       "      <td>[0.9611177, 0.03888231]</td>\n",
       "      <td>0</td>\n",
       "    </tr>\n",
       "    <tr>\n",
       "      <th>10</th>\n",
       "      <td>josipa</td>\n",
       "      <td>[0.16567142, 0.6238045]</td>\n",
       "      <td>1</td>\n",
       "      <td>[0.014248267, 0.9857517]</td>\n",
       "      <td>1</td>\n",
       "    </tr>\n",
       "    <tr>\n",
       "      <th>11</th>\n",
       "      <td>hrvoje</td>\n",
       "      <td>[0.9921685, 0.0087616695]</td>\n",
       "      <td>0</td>\n",
       "      <td>[0.9611177, 0.03888231]</td>\n",
       "      <td>0</td>\n",
       "    </tr>\n",
       "    <tr>\n",
       "      <th>12</th>\n",
       "      <td>mario</td>\n",
       "      <td>[0.9710164, 0.017677074]</td>\n",
       "      <td>0</td>\n",
       "      <td>[0.9789711, 0.021028833]</td>\n",
       "      <td>0</td>\n",
       "    </tr>\n",
       "    <tr>\n",
       "      <th>13</th>\n",
       "      <td>martina</td>\n",
       "      <td>[0.03985161, 0.86508006]</td>\n",
       "      <td>1</td>\n",
       "      <td>[0.003304003, 0.996696]</td>\n",
       "      <td>1</td>\n",
       "    </tr>\n",
       "    <tr>\n",
       "      <th>14</th>\n",
       "      <td>nikola</td>\n",
       "      <td>[0.0431458, 0.85952085]</td>\n",
       "      <td>1</td>\n",
       "      <td>[0.7041001, 0.29589996]</td>\n",
       "      <td>0</td>\n",
       "    </tr>\n",
       "    <tr>\n",
       "      <th>15</th>\n",
       "      <td>luka</td>\n",
       "      <td>[0.028209046, 0.8952011]</td>\n",
       "      <td>1</td>\n",
       "      <td>[0.06870038, 0.9312996]</td>\n",
       "      <td>1</td>\n",
       "    </tr>\n",
       "    <tr>\n",
       "      <th>16</th>\n",
       "      <td>ines</td>\n",
       "      <td>[0.7285293, 0.14245601]</td>\n",
       "      <td>0</td>\n",
       "      <td>[0.8522446, 0.1477554]</td>\n",
       "      <td>0</td>\n",
       "    </tr>\n",
       "  </tbody>\n",
       "</table>\n",
       "</div>"
      ],
      "text/plain": [
       "       Riječ                     Model1  Model1 Predict  \\\n",
       "0       ivan   [0.76576185, 0.11617057]               0   \n",
       "1    dolores   [0.96747535, 0.02500458]               0   \n",
       "2       saša    [0.0803385, 0.74785715]               1   \n",
       "3        ana   [0.017193815, 0.9268358]               1   \n",
       "4      mitar    [0.7144508, 0.13552243]               0   \n",
       "5       duje   [0.36061865, 0.38361314]               1   \n",
       "6   tomislav   [0.94526994, 0.03462869]               0   \n",
       "7    domagoj   [0.9995555, 0.000517505]               0   \n",
       "8     lucija   [0.036600504, 0.8754304]               1   \n",
       "9     hrvoje  [0.9921685, 0.0087616695]               0   \n",
       "10    josipa    [0.16567142, 0.6238045]               1   \n",
       "11    hrvoje  [0.9921685, 0.0087616695]               0   \n",
       "12     mario   [0.9710164, 0.017677074]               0   \n",
       "13   martina   [0.03985161, 0.86508006]               1   \n",
       "14    nikola    [0.0431458, 0.85952085]               1   \n",
       "15      luka   [0.028209046, 0.8952011]               1   \n",
       "16      ines    [0.7285293, 0.14245601]               0   \n",
       "\n",
       "                       Model2  Model2 Predict  \n",
       "0    [0.9437586, 0.056241382]               0  \n",
       "1     [0.9512665, 0.04873345]               0  \n",
       "2     [0.30264446, 0.6973555]               1  \n",
       "3    [0.030120488, 0.9698795]               1  \n",
       "4   [0.97256607, 0.027433977]               0  \n",
       "5     [0.8340641, 0.16593595]               0  \n",
       "6      [0.9914141, 0.0085859]               0  \n",
       "7   [0.9982071, 0.0017929615]               0  \n",
       "8    [0.01575467, 0.98424536]               1  \n",
       "9     [0.9611177, 0.03888231]               0  \n",
       "10   [0.014248267, 0.9857517]               1  \n",
       "11    [0.9611177, 0.03888231]               0  \n",
       "12   [0.9789711, 0.021028833]               0  \n",
       "13    [0.003304003, 0.996696]               1  \n",
       "14    [0.7041001, 0.29589996]               0  \n",
       "15    [0.06870038, 0.9312996]               1  \n",
       "16     [0.8522446, 0.1477554]               0  "
      ]
     },
     "execution_count": 20,
     "metadata": {},
     "output_type": "execute_result"
    }
   ],
   "source": [
    "np.set_printoptions(suppress=True)\n",
    "tab = []\n",
    "for i in range(len(name)):\n",
    "    tab.append([name[i],pred1[i],np.argmax(pred1,axis=1)[i],pred2[i],np.argmax(pred2,axis=1)[i]])\n",
    "pd.DataFrame(tab,columns=[\"Riječ\",\"Model1\",\"Model1 Predict\",\"Model2\",\"Model2 Predict\"])"
   ]
  },
  {
   "cell_type": "markdown",
   "metadata": {},
   "source": [
    "Graf o tome kako su se metrike kretale tijekom vremena za modele\n",
    "Primjetimo da nakon ~40 epoha je model2 počeo overfittat"
   ]
  },
  {
   "cell_type": "code",
   "execution_count": 21,
   "metadata": {},
   "outputs": [
    {
     "name": "stdout",
     "output_type": "stream",
     "text": [
      "dict_keys(['val_loss', 'val_acc', 'loss', 'acc'])\n"
     ]
    },
    {
     "data": {
      "image/png": "[encoded data removed]",
      "text/plain": [
       "<matplotlib.figure.Figure at 0x15d1d0ee438>"
      ]
     },
     "metadata": {},
     "output_type": "display_data"
    },
    {
     "name": "stdout",
     "output_type": "stream",
     "text": [
      "dict_keys(['val_loss', 'val_acc', 'loss', 'acc'])\n"
     ]
    },
    {
     "data": {
      "image/png": "[encoded data removed]",
      "text/plain": [
       "<matplotlib.figure.Figure at 0x15d1a03cba8>"
      ]
     },
     "metadata": {},
     "output_type": "display_data"
    }
   ],
   "source": [
    "print(history1.history.keys())\n",
    "loss = history1.history['loss']\n",
    "val_loss = history1.history['val_loss']\n",
    "acc = history1.history[\"acc\"]\n",
    "val_acc = history1.history[\"val_acc\"]\n",
    "epochs = range(1, len(loss) + 1)\n",
    "plt.subplot(2,1,1)\n",
    "plt.plot(epochs, loss, 'bo', label='Training loss')\n",
    "plt.plot(epochs, val_loss, 'ro', label='Validation loss')\n",
    "plt.title('Training and validation loss/acc')\n",
    "plt.xlabel('Epochs')\n",
    "plt.ylabel('Loss')\n",
    "plt.legend()\n",
    "\n",
    "plt.subplot(2,1,2)\n",
    "\n",
    "plt.plot(epochs, acc, 'b', label='Training acc')\n",
    "plt.plot(epochs, val_acc, 'r', label='Validation acc')\n",
    "\n",
    "plt.xlabel('Epochs')\n",
    "plt.ylabel('Acc')\n",
    "plt.legend()\n",
    "\n",
    "plt.show()\n",
    "print(history2.history.keys())\n",
    "loss = history2.history['loss']\n",
    "val_loss = history2.history['val_loss']\n",
    "acc = history2.history[\"acc\"]\n",
    "val_acc = history2.history[\"val_acc\"]\n",
    "epochs = range(1, len(loss) + 1)\n",
    "plt.subplot(2,1,1)\n",
    "plt.plot(epochs, loss, 'bo', label='Training loss')\n",
    "plt.plot(epochs, val_loss, 'ro', label='Validation loss')\n",
    "plt.title('Training and validation loss/acc')\n",
    "plt.xlabel('Epochs')\n",
    "plt.ylabel('Loss')\n",
    "plt.legend()\n",
    "\n",
    "plt.subplot(2,1,2)\n",
    "\n",
    "plt.plot(epochs, acc, 'b', label='Training acc')\n",
    "plt.plot(epochs, val_acc, 'r', label='Validation acc')\n",
    "\n",
    "plt.xlabel('Epochs')\n",
    "plt.ylabel('Acc')\n",
    "plt.legend()\n",
    "\n",
    "plt.show()"
   ]
  },
  {
   "cell_type": "code",
   "execution_count": 22,
   "metadata": {},
   "outputs": [],
   "source": [
    "def wrongones(model,X,y):\n",
    "    pred = model.predict(X)\n",
    "    indices = [i for i,v in enumerate(pred) if (np.round(pred[i][0])!=y[i][0])]\n",
    "    subset_of_wrongly_predicted = [X[i] for i in indices ]\n",
    "    krivi=[]\n",
    "    for rijec in (subset_of_wrongly_predicted):\n",
    "        rij = []\n",
    "        for slovo in rijec:\n",
    "            #rij.append(np.nonzero(slovo)[0][0])\n",
    "            rij.append(list(char_index.keys())[list(char_index.values()).index(np.nonzero(slovo)[0][0])])\n",
    "        a = (\"\".join(rij))\n",
    "        krivi.append((re.split(\"END\",a)[0]))\n",
    "    return krivi"
   ]
  },
  {
   "cell_type": "markdown",
   "metadata": {},
   "source": [
    "Ispis krivo određenih riječi za model1"
   ]
  },
  {
   "cell_type": "code",
   "execution_count": 23,
   "metadata": {},
   "outputs": [
    {
     "data": {
      "text/plain": [
       "['vojta',\n",
       " 'ota',\n",
       " 'murat',\n",
       " 'tadeaš',\n",
       " 'sime',\n",
       " 'peta',\n",
       " 'sava',\n",
       " 'renat',\n",
       " 'tase',\n",
       " 'milojica',\n",
       " 'ester',\n",
       " 'nace',\n",
       " 'doris',\n",
       " 'jozafat',\n",
       " 'rade',\n",
       " 'honza',\n",
       " 'rene',\n",
       " 'miša',\n",
       " 'zdenek',\n",
       " 'jure',\n",
       " 'sergei']"
      ]
     },
     "execution_count": 23,
     "metadata": {},
     "output_type": "execute_result"
    }
   ],
   "source": [
    "(wrongones(model11,test_X,test_y))"
   ]
  },
  {
   "cell_type": "markdown",
   "metadata": {},
   "source": [
    "Ispis krivo određenih riječi za model2"
   ]
  },
  {
   "cell_type": "code",
   "execution_count": 24,
   "metadata": {},
   "outputs": [
    {
     "data": {
      "text/plain": [
       "['peta', 'miša', 'vova', 'maria', 'jaka']"
      ]
     },
     "execution_count": 24,
     "metadata": {},
     "output_type": "execute_result"
    }
   ],
   "source": [
    "wrongones(model22,val_X,val_y)"
   ]
  },
  {
   "cell_type": "markdown",
   "metadata": {},
   "source": [
    "# Zaključak"
   ]
  },
  {
   "cell_type": "markdown",
   "metadata": {},
   "source": [
    "Dobili smo preciznosti oko 95% na imena slavenskog porijetla. Ako bismo željeli staviti ovu funkcionalnost u funkciju, preporučio bih da se stavi \"look-up table\" za riječi krivo klasificiane, a za ostale riječi da se koristi klasifikator"
   ]
  },
  {
   "cell_type": "code",
   "execution_count": null,
   "metadata": {},
   "outputs": [],
   "source": []
  }
 ],
 "metadata": {
  "kernelspec": {
   "display_name": "Python 3",
   "language": "python",
   "name": "python3"
  },
  "language_info": {
   "codemirror_mode": {
    "name": "ipython",
    "version": 3
   },
   "file_extension": ".py",
   "mimetype": "text/x-python",
   "name": "python",
   "nbconvert_exporter": "python",
   "pygments_lexer": "ipython3",
   "version": "3.6.3"
  }
 },
 "nbformat": 4,
 "nbformat_minor": 1
}
